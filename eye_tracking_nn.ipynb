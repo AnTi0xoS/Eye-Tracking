{
  "nbformat": 4,
  "nbformat_minor": 0,
  "metadata": {
    "colab": {
      "provenance": []
    },
    "kernelspec": {
      "name": "python3",
      "display_name": "Python 3"
    },
    "language_info": {
      "name": "python"
    },
    "widgets": {
      "application/vnd.jupyter.widget-state+json": {
        "92169e4e01104058933f94ad8c24bfa8": {
          "model_module": "@jupyter-widgets/controls",
          "model_name": "HBoxModel",
          "model_module_version": "1.5.0",
          "state": {
            "_dom_classes": [],
            "_model_module": "@jupyter-widgets/controls",
            "_model_module_version": "1.5.0",
            "_model_name": "HBoxModel",
            "_view_count": null,
            "_view_module": "@jupyter-widgets/controls",
            "_view_module_version": "1.5.0",
            "_view_name": "HBoxView",
            "box_style": "",
            "children": [
              "IPY_MODEL_459293cc177a4dc28961d3b9ca3eb6fc",
              "IPY_MODEL_4005f3427d4f406f9326efd240f9ddec",
              "IPY_MODEL_32c6888675f042ad92995c6d6bd75384"
            ],
            "layout": "IPY_MODEL_34546ab67e7741f99d71a62e96d84b80"
          }
        },
        "459293cc177a4dc28961d3b9ca3eb6fc": {
          "model_module": "@jupyter-widgets/controls",
          "model_name": "HTMLModel",
          "model_module_version": "1.5.0",
          "state": {
            "_dom_classes": [],
            "_model_module": "@jupyter-widgets/controls",
            "_model_module_version": "1.5.0",
            "_model_name": "HTMLModel",
            "_view_count": null,
            "_view_module": "@jupyter-widgets/controls",
            "_view_module_version": "1.5.0",
            "_view_name": "HTMLView",
            "description": "",
            "description_tooltip": null,
            "layout": "IPY_MODEL_7cf54a9f2929484da35ed1be38f4766e",
            "placeholder": "​",
            "style": "IPY_MODEL_5a19b2852f91449e830f1485da6ab03c",
            "value": "100%"
          }
        },
        "4005f3427d4f406f9326efd240f9ddec": {
          "model_module": "@jupyter-widgets/controls",
          "model_name": "FloatProgressModel",
          "model_module_version": "1.5.0",
          "state": {
            "_dom_classes": [],
            "_model_module": "@jupyter-widgets/controls",
            "_model_module_version": "1.5.0",
            "_model_name": "FloatProgressModel",
            "_view_count": null,
            "_view_module": "@jupyter-widgets/controls",
            "_view_module_version": "1.5.0",
            "_view_name": "ProgressView",
            "bar_style": "success",
            "description": "",
            "description_tooltip": null,
            "layout": "IPY_MODEL_8ee8d245c3484a398f0e6a29d2bda7a9",
            "max": 451,
            "min": 0,
            "orientation": "horizontal",
            "style": "IPY_MODEL_a4e2667605f04b0eab6fbbe83b80ef9f",
            "value": 451
          }
        },
        "32c6888675f042ad92995c6d6bd75384": {
          "model_module": "@jupyter-widgets/controls",
          "model_name": "HTMLModel",
          "model_module_version": "1.5.0",
          "state": {
            "_dom_classes": [],
            "_model_module": "@jupyter-widgets/controls",
            "_model_module_version": "1.5.0",
            "_model_name": "HTMLModel",
            "_view_count": null,
            "_view_module": "@jupyter-widgets/controls",
            "_view_module_version": "1.5.0",
            "_view_name": "HTMLView",
            "description": "",
            "description_tooltip": null,
            "layout": "IPY_MODEL_3f6a96aa4bac4aa290c4a2a4259c9f0a",
            "placeholder": "​",
            "style": "IPY_MODEL_526bc001687542a59f1d056366da86ec",
            "value": " 451/451 [04:39&lt;00:00,  9.45it/s]"
          }
        },
        "34546ab67e7741f99d71a62e96d84b80": {
          "model_module": "@jupyter-widgets/base",
          "model_name": "LayoutModel",
          "model_module_version": "1.2.0",
          "state": {
            "_model_module": "@jupyter-widgets/base",
            "_model_module_version": "1.2.0",
            "_model_name": "LayoutModel",
            "_view_count": null,
            "_view_module": "@jupyter-widgets/base",
            "_view_module_version": "1.2.0",
            "_view_name": "LayoutView",
            "align_content": null,
            "align_items": null,
            "align_self": null,
            "border": null,
            "bottom": null,
            "display": null,
            "flex": null,
            "flex_flow": null,
            "grid_area": null,
            "grid_auto_columns": null,
            "grid_auto_flow": null,
            "grid_auto_rows": null,
            "grid_column": null,
            "grid_gap": null,
            "grid_row": null,
            "grid_template_areas": null,
            "grid_template_columns": null,
            "grid_template_rows": null,
            "height": null,
            "justify_content": null,
            "justify_items": null,
            "left": null,
            "margin": null,
            "max_height": null,
            "max_width": null,
            "min_height": null,
            "min_width": null,
            "object_fit": null,
            "object_position": null,
            "order": null,
            "overflow": null,
            "overflow_x": null,
            "overflow_y": null,
            "padding": null,
            "right": null,
            "top": null,
            "visibility": null,
            "width": null
          }
        },
        "7cf54a9f2929484da35ed1be38f4766e": {
          "model_module": "@jupyter-widgets/base",
          "model_name": "LayoutModel",
          "model_module_version": "1.2.0",
          "state": {
            "_model_module": "@jupyter-widgets/base",
            "_model_module_version": "1.2.0",
            "_model_name": "LayoutModel",
            "_view_count": null,
            "_view_module": "@jupyter-widgets/base",
            "_view_module_version": "1.2.0",
            "_view_name": "LayoutView",
            "align_content": null,
            "align_items": null,
            "align_self": null,
            "border": null,
            "bottom": null,
            "display": null,
            "flex": null,
            "flex_flow": null,
            "grid_area": null,
            "grid_auto_columns": null,
            "grid_auto_flow": null,
            "grid_auto_rows": null,
            "grid_column": null,
            "grid_gap": null,
            "grid_row": null,
            "grid_template_areas": null,
            "grid_template_columns": null,
            "grid_template_rows": null,
            "height": null,
            "justify_content": null,
            "justify_items": null,
            "left": null,
            "margin": null,
            "max_height": null,
            "max_width": null,
            "min_height": null,
            "min_width": null,
            "object_fit": null,
            "object_position": null,
            "order": null,
            "overflow": null,
            "overflow_x": null,
            "overflow_y": null,
            "padding": null,
            "right": null,
            "top": null,
            "visibility": null,
            "width": null
          }
        },
        "5a19b2852f91449e830f1485da6ab03c": {
          "model_module": "@jupyter-widgets/controls",
          "model_name": "DescriptionStyleModel",
          "model_module_version": "1.5.0",
          "state": {
            "_model_module": "@jupyter-widgets/controls",
            "_model_module_version": "1.5.0",
            "_model_name": "DescriptionStyleModel",
            "_view_count": null,
            "_view_module": "@jupyter-widgets/base",
            "_view_module_version": "1.2.0",
            "_view_name": "StyleView",
            "description_width": ""
          }
        },
        "8ee8d245c3484a398f0e6a29d2bda7a9": {
          "model_module": "@jupyter-widgets/base",
          "model_name": "LayoutModel",
          "model_module_version": "1.2.0",
          "state": {
            "_model_module": "@jupyter-widgets/base",
            "_model_module_version": "1.2.0",
            "_model_name": "LayoutModel",
            "_view_count": null,
            "_view_module": "@jupyter-widgets/base",
            "_view_module_version": "1.2.0",
            "_view_name": "LayoutView",
            "align_content": null,
            "align_items": null,
            "align_self": null,
            "border": null,
            "bottom": null,
            "display": null,
            "flex": null,
            "flex_flow": null,
            "grid_area": null,
            "grid_auto_columns": null,
            "grid_auto_flow": null,
            "grid_auto_rows": null,
            "grid_column": null,
            "grid_gap": null,
            "grid_row": null,
            "grid_template_areas": null,
            "grid_template_columns": null,
            "grid_template_rows": null,
            "height": null,
            "justify_content": null,
            "justify_items": null,
            "left": null,
            "margin": null,
            "max_height": null,
            "max_width": null,
            "min_height": null,
            "min_width": null,
            "object_fit": null,
            "object_position": null,
            "order": null,
            "overflow": null,
            "overflow_x": null,
            "overflow_y": null,
            "padding": null,
            "right": null,
            "top": null,
            "visibility": null,
            "width": null
          }
        },
        "a4e2667605f04b0eab6fbbe83b80ef9f": {
          "model_module": "@jupyter-widgets/controls",
          "model_name": "ProgressStyleModel",
          "model_module_version": "1.5.0",
          "state": {
            "_model_module": "@jupyter-widgets/controls",
            "_model_module_version": "1.5.0",
            "_model_name": "ProgressStyleModel",
            "_view_count": null,
            "_view_module": "@jupyter-widgets/base",
            "_view_module_version": "1.2.0",
            "_view_name": "StyleView",
            "bar_color": null,
            "description_width": ""
          }
        },
        "3f6a96aa4bac4aa290c4a2a4259c9f0a": {
          "model_module": "@jupyter-widgets/base",
          "model_name": "LayoutModel",
          "model_module_version": "1.2.0",
          "state": {
            "_model_module": "@jupyter-widgets/base",
            "_model_module_version": "1.2.0",
            "_model_name": "LayoutModel",
            "_view_count": null,
            "_view_module": "@jupyter-widgets/base",
            "_view_module_version": "1.2.0",
            "_view_name": "LayoutView",
            "align_content": null,
            "align_items": null,
            "align_self": null,
            "border": null,
            "bottom": null,
            "display": null,
            "flex": null,
            "flex_flow": null,
            "grid_area": null,
            "grid_auto_columns": null,
            "grid_auto_flow": null,
            "grid_auto_rows": null,
            "grid_column": null,
            "grid_gap": null,
            "grid_row": null,
            "grid_template_areas": null,
            "grid_template_columns": null,
            "grid_template_rows": null,
            "height": null,
            "justify_content": null,
            "justify_items": null,
            "left": null,
            "margin": null,
            "max_height": null,
            "max_width": null,
            "min_height": null,
            "min_width": null,
            "object_fit": null,
            "object_position": null,
            "order": null,
            "overflow": null,
            "overflow_x": null,
            "overflow_y": null,
            "padding": null,
            "right": null,
            "top": null,
            "visibility": null,
            "width": null
          }
        },
        "526bc001687542a59f1d056366da86ec": {
          "model_module": "@jupyter-widgets/controls",
          "model_name": "DescriptionStyleModel",
          "model_module_version": "1.5.0",
          "state": {
            "_model_module": "@jupyter-widgets/controls",
            "_model_module_version": "1.5.0",
            "_model_name": "DescriptionStyleModel",
            "_view_count": null,
            "_view_module": "@jupyter-widgets/base",
            "_view_module_version": "1.2.0",
            "_view_name": "StyleView",
            "description_width": ""
          }
        }
      }
    }
  },
  "cells": [
    {
      "cell_type": "code",
      "execution_count": null,
      "metadata": {
        "id": "uD8YKrEln3-1",
        "colab": {
          "base_uri": "https://localhost:8080/"
        },
        "outputId": "dbd50ec1-3387-4dd6-8a86-2db03526f49b"
      },
      "outputs": [
        {
          "output_type": "stream",
          "name": "stderr",
          "text": [
            "<ipython-input-3-d0e04a1e5cb1>:12: TqdmExperimentalWarning: Using `tqdm.autonotebook.tqdm` in notebook mode. Use `tqdm.tqdm` instead to force console mode (e.g. in jupyter console)\n",
            "  from tqdm.autonotebook import tqdm\n"
          ]
        }
      ],
      "source": [
        "import torch\n",
        "import torch.nn as nn\n",
        "import torch.nn.functional as F\n",
        "\n",
        "import torchvision as tv\n",
        "\n",
        "import os\n",
        "import cv2\n",
        "import zipfile\n",
        "import numpy as np\n",
        "import matplotlib.pyplot as plt\n",
        "from tqdm.autonotebook import tqdm"
      ]
    },
    {
      "cell_type": "code",
      "source": [
        "from google.colab import drive\n",
        "drive.mount('/content/drive/')"
      ],
      "metadata": {
        "id": "NdGMdRmFUh6p",
        "colab": {
          "base_uri": "https://localhost:8080/"
        },
        "outputId": "93b585f1-ad2d-433c-b4d8-de0cd1312e32"
      },
      "execution_count": null,
      "outputs": [
        {
          "output_type": "stream",
          "name": "stdout",
          "text": [
            "Mounted at /content/drive/\n"
          ]
        }
      ]
    },
    {
      "cell_type": "code",
      "source": [
        "class Eye_tracking_dataset_3classes(torch.utils.data.Dataset):\n",
        "    def __init__(self, path_dir1:str, path_dir2:str, path_dir3:str):\n",
        "        super().__init__()\n",
        "        self.image_path = \"\"\n",
        "        self.class_id = 0\n",
        "\n",
        "        self.path_dir1 = path_dir1\n",
        "        self.path_dir2 = path_dir2\n",
        "        self.path_dir3 = path_dir3\n",
        "\n",
        "        self.dir1_list = sorted(os.listdir(path_dir1))\n",
        "        self.dir2_list = sorted(os.listdir(path_dir2))\n",
        "        self.dir3_list = sorted(os.listdir(path_dir3))\n",
        "\n",
        "    def __len__(self):\n",
        "        return (len(self.dir1_list) + len(self.dir2_list) + len(self.dir3_list))\n",
        "\n",
        "    def __getitem__(self, index):\n",
        "        if index < len(self.dir1_list):\n",
        "            self.class_id = 0\n",
        "            self.image_path = os.path.join(self.path_dir1, self.dir1_list[index])\n",
        "        elif index < (len(self.dir1_list) + len(self.dir2_list)):\n",
        "            self.class_id = 1\n",
        "            index -= len(self.dir1_list)\n",
        "            self.image_path = os.path.join(self.path_dir2, self.dir2_list[index])\n",
        "        elif index < (len(self.dir1_list) + len(self.dir2_list) + len(self.dir3_list)):\n",
        "            self.class_id = 2\n",
        "            index -= (len(self.dir1_list) + len(self.dir2_list))\n",
        "            self.image_path= os.path.join(self.path_dir3, self.dir3_list[index])\n",
        "\n",
        "        image = cv2.imread(self.image_path, cv2.IMREAD_COLOR)\n",
        "        image = cv2.cvtColor(image, cv2.COLOR_BGR2RGB)\n",
        "        image = image.astype(np.float32)\n",
        "        image = cv2.resize(image, (100, 100), interpolation=cv2.INTER_AREA)\n",
        "        image = image/255.0\n",
        "\n",
        "        image = image.transpose((2, 0, 1))\n",
        "\n",
        "        t_image = torch.from_numpy(image)\n",
        "        t_class_id = torch.tensor(self.class_id)\n",
        "\n",
        "        # return image\n",
        "\n",
        "        return {'image': t_image, 'label': t_class_id}"
      ],
      "metadata": {
        "id": "tsXKBxG1owK3"
      },
      "execution_count": null,
      "outputs": []
    },
    {
      "cell_type": "code",
      "source": [
        "train_left_path = '/content/drive/My Drive/Colab Notebooks/DGW_dataset_train/left/'\n",
        "train_center_path = '/content/drive/My Drive/Colab Notebooks/DGW_dataset_train/center/'\n",
        "train_right_path = '/content/drive/My Drive/Colab Notebooks/DGW_dataset_train/right/'\n",
        "\n",
        "train_dataset = Eye_tracking_dataset_3classes(train_left_path, train_center_path, train_right_path)"
      ],
      "metadata": {
        "id": "BoloQt9Pxj06",
        "colab": {
          "base_uri": "https://localhost:8080/",
          "height": 331
        },
        "outputId": "ec8d9b26-3559-4dd0-d700-ec60767b004b"
      },
      "execution_count": null,
      "outputs": [
        {
          "output_type": "error",
          "ename": "FileNotFoundError",
          "evalue": "ignored",
          "traceback": [
            "\u001b[0;31m---------------------------------------------------------------------------\u001b[0m",
            "\u001b[0;31mFileNotFoundError\u001b[0m                         Traceback (most recent call last)",
            "\u001b[0;32m<ipython-input-6-a50b75392cf2>\u001b[0m in \u001b[0;36m<cell line: 5>\u001b[0;34m()\u001b[0m\n\u001b[1;32m      3\u001b[0m \u001b[0mtrain_right_path\u001b[0m \u001b[0;34m=\u001b[0m \u001b[0;34m'/content/drive/My Drive/Colab Notebooks/DGW_dataset_train/right/'\u001b[0m\u001b[0;34m\u001b[0m\u001b[0;34m\u001b[0m\u001b[0m\n\u001b[1;32m      4\u001b[0m \u001b[0;34m\u001b[0m\u001b[0m\n\u001b[0;32m----> 5\u001b[0;31m \u001b[0mtrain_dataset\u001b[0m \u001b[0;34m=\u001b[0m \u001b[0mEye_tracking_dataset_3classes\u001b[0m\u001b[0;34m(\u001b[0m\u001b[0mtrain_left_path\u001b[0m\u001b[0;34m,\u001b[0m \u001b[0mtrain_center_path\u001b[0m\u001b[0;34m,\u001b[0m \u001b[0mtrain_right_path\u001b[0m\u001b[0;34m)\u001b[0m\u001b[0;34m\u001b[0m\u001b[0;34m\u001b[0m\u001b[0m\n\u001b[0m",
            "\u001b[0;32m<ipython-input-5-4f82788375e3>\u001b[0m in \u001b[0;36m__init__\u001b[0;34m(self, path_dir1, path_dir2, path_dir3)\u001b[0m\n\u001b[1;32m      9\u001b[0m         \u001b[0mself\u001b[0m\u001b[0;34m.\u001b[0m\u001b[0mpath_dir3\u001b[0m \u001b[0;34m=\u001b[0m \u001b[0mpath_dir3\u001b[0m\u001b[0;34m\u001b[0m\u001b[0;34m\u001b[0m\u001b[0m\n\u001b[1;32m     10\u001b[0m \u001b[0;34m\u001b[0m\u001b[0m\n\u001b[0;32m---> 11\u001b[0;31m         \u001b[0mself\u001b[0m\u001b[0;34m.\u001b[0m\u001b[0mdir1_list\u001b[0m \u001b[0;34m=\u001b[0m \u001b[0msorted\u001b[0m\u001b[0;34m(\u001b[0m\u001b[0mos\u001b[0m\u001b[0;34m.\u001b[0m\u001b[0mlistdir\u001b[0m\u001b[0;34m(\u001b[0m\u001b[0mpath_dir1\u001b[0m\u001b[0;34m)\u001b[0m\u001b[0;34m)\u001b[0m\u001b[0;34m\u001b[0m\u001b[0;34m\u001b[0m\u001b[0m\n\u001b[0m\u001b[1;32m     12\u001b[0m         \u001b[0mself\u001b[0m\u001b[0;34m.\u001b[0m\u001b[0mdir2_list\u001b[0m \u001b[0;34m=\u001b[0m \u001b[0msorted\u001b[0m\u001b[0;34m(\u001b[0m\u001b[0mos\u001b[0m\u001b[0;34m.\u001b[0m\u001b[0mlistdir\u001b[0m\u001b[0;34m(\u001b[0m\u001b[0mpath_dir2\u001b[0m\u001b[0;34m)\u001b[0m\u001b[0;34m)\u001b[0m\u001b[0;34m\u001b[0m\u001b[0;34m\u001b[0m\u001b[0m\n\u001b[1;32m     13\u001b[0m         \u001b[0mself\u001b[0m\u001b[0;34m.\u001b[0m\u001b[0mdir3_list\u001b[0m \u001b[0;34m=\u001b[0m \u001b[0msorted\u001b[0m\u001b[0;34m(\u001b[0m\u001b[0mos\u001b[0m\u001b[0;34m.\u001b[0m\u001b[0mlistdir\u001b[0m\u001b[0;34m(\u001b[0m\u001b[0mpath_dir3\u001b[0m\u001b[0;34m)\u001b[0m\u001b[0;34m)\u001b[0m\u001b[0;34m\u001b[0m\u001b[0;34m\u001b[0m\u001b[0m\n",
            "\u001b[0;31mFileNotFoundError\u001b[0m: [Errno 2] No such file or directory: '/content/drive/My Drive/Colab Notebooks/DGW_dataset_train/left/'"
          ]
        }
      ]
    },
    {
      "cell_type": "code",
      "source": [
        "train_dataset[0]['image']"
      ],
      "metadata": {
        "colab": {
          "base_uri": "https://localhost:8080/"
        },
        "id": "tJxtxf3X28g2",
        "outputId": "15758049-1910-4e2a-fa81-0332a2407179"
      },
      "execution_count": null,
      "outputs": [
        {
          "output_type": "execute_result",
          "data": {
            "text/plain": [
              "tensor([[[0.6360, 0.6685, 0.7037,  ..., 0.3892, 0.3735, 0.3194],\n",
              "         [0.6515, 0.6766, 0.7111,  ..., 0.3953, 0.3156, 0.2767],\n",
              "         [0.6578, 0.6919, 0.6949,  ..., 0.3241, 0.2731, 0.2655],\n",
              "         ...,\n",
              "         [0.0938, 0.0985, 0.1174,  ..., 0.1856, 0.2011, 0.1682],\n",
              "         [0.1100, 0.1027, 0.0930,  ..., 0.4879, 0.4806, 0.4647],\n",
              "         [0.0985, 0.1081, 0.0919,  ..., 0.5662, 0.5514, 0.5485]],\n",
              "\n",
              "        [[0.9715, 0.9816, 0.9865,  ..., 0.3403, 0.3243, 0.2819],\n",
              "         [0.9644, 0.9728, 0.9859,  ..., 0.3172, 0.2778, 0.2298],\n",
              "         [0.9625, 0.9727, 0.9827,  ..., 0.2710, 0.2309, 0.2138],\n",
              "         ...,\n",
              "         [0.0881, 0.0826, 0.0689,  ..., 0.1503, 0.1408, 0.1566],\n",
              "         [0.0748, 0.0821, 0.0793,  ..., 0.4233, 0.4411, 0.4573],\n",
              "         [0.0901, 0.0738, 0.0693,  ..., 0.5081, 0.4916, 0.5017]],\n",
              "\n",
              "        [[1.0000, 1.0000, 1.0000,  ..., 0.1818, 0.1739, 0.1491],\n",
              "         [1.0000, 1.0000, 1.0000,  ..., 0.2020, 0.1429, 0.1309],\n",
              "         [1.0000, 1.0000, 1.0000,  ..., 0.1718, 0.1257, 0.0920],\n",
              "         ...,\n",
              "         [0.1055, 0.1032, 0.1087,  ..., 0.1474, 0.1378, 0.1536],\n",
              "         [0.0982, 0.0771, 0.0658,  ..., 0.4758, 0.4734, 0.4870],\n",
              "         [0.0660, 0.1007, 0.0907,  ..., 0.5495, 0.5662, 0.5711]]])"
            ]
          },
          "metadata": {},
          "execution_count": 5
        }
      ]
    },
    {
      "cell_type": "code",
      "source": [
        "len(train_dataset)"
      ],
      "metadata": {
        "colab": {
          "base_uri": "https://localhost:8080/"
        },
        "id": "7k8fLJaf6YEd",
        "outputId": "6254db7b-eb9f-4622-fe0b-3061ed16e323"
      },
      "execution_count": null,
      "outputs": [
        {
          "output_type": "execute_result",
          "data": {
            "text/plain": [
              "15473"
            ]
          },
          "metadata": {},
          "execution_count": 6
        }
      ]
    },
    {
      "cell_type": "code",
      "source": [
        "batch_size = 16\n",
        "\n",
        "train_loader = torch.utils.data.DataLoader(\n",
        "    train_dataset, shuffle=True,\n",
        "    batch_size=batch_size, num_workers=20, drop_last=True\n",
        ")"
      ],
      "metadata": {
        "colab": {
          "base_uri": "https://localhost:8080/"
        },
        "id": "na7hbtSpXgUW",
        "outputId": "53aa586c-2343-4960-8f0f-8ae85eb79fb8"
      },
      "execution_count": null,
      "outputs": [
        {
          "output_type": "stream",
          "name": "stderr",
          "text": [
            "/usr/local/lib/python3.10/dist-packages/torch/utils/data/dataloader.py:560: UserWarning: This DataLoader will create 20 worker processes in total. Our suggested max number of worker in current system is 2, which is smaller than what this DataLoader is going to create. Please be aware that excessive worker creation might get DataLoader running slow or even freeze, lower the worker number to avoid potential slowness/freeze if necessary.\n",
            "  warnings.warn(_create_warning_msg(\n"
          ]
        }
      ]
    },
    {
      "cell_type": "code",
      "source": [
        "class Neural_Network(nn.Module):\n",
        "    def __init__(self):\n",
        "        super().__init__()\n",
        "\n",
        "        self.act = nn.LeakyReLU(0.2)\n",
        "        self.maxpool = nn.MaxPool2d(2, 2)\n",
        "        self.conv0 = nn.Conv2d(3, 32, 3, stride=1, padding=0)\n",
        "        self.conv1 = nn.Conv2d(32, 32, 3, stride=1, padding=0)\n",
        "        self.conv2 = nn.Conv2d(32, 64, 3, stride=1, padding=0)\n",
        "        self.conv3 = nn.Conv2d(64, 128, 3, stride=1, padding=0)\n",
        "\n",
        "        self.adaptivepool = nn.AdaptiveAvgPool2d((1, 1))\n",
        "        self.flatten = nn.Flatten()\n",
        "        self.linear1 = nn.Linear(128, 20)\n",
        "        self.linear2 = nn.Linear(20, 3)\n",
        "\n",
        "    def forward(self, x):\n",
        "        out = self.conv0(x)\n",
        "        out = self.act(out)\n",
        "        out = self.maxpool(out)\n",
        "\n",
        "        out = self.conv1(out)\n",
        "        out = self.act(out)\n",
        "        out = self.maxpool(out)\n",
        "\n",
        "        out = self.conv2(out)\n",
        "        out = self.act(out)\n",
        "        out = self.maxpool(out)\n",
        "\n",
        "        out = self.conv3(out)\n",
        "        out = self.act(out)\n",
        "        out = self.maxpool(out)\n",
        "\n",
        "        out = self.adaptivepool(out)\n",
        "        out = self.flatten(out)\n",
        "        out = self.linear1(out)\n",
        "        out = self.act(out)\n",
        "        out = self.linear2(out)\n",
        "\n",
        "        return out"
      ],
      "metadata": {
        "id": "tPWDQ7JJe2HT"
      },
      "execution_count": null,
      "outputs": []
    },
    {
      "cell_type": "code",
      "source": [
        "def count_parameters(model):\n",
        "    return sum(p.numel() for p in model.parameters() if p.requires_grad)"
      ],
      "metadata": {
        "id": "gv9cP2nfXT5f"
      },
      "execution_count": null,
      "outputs": []
    },
    {
      "cell_type": "code",
      "source": [
        "model = Neural_Network()"
      ],
      "metadata": {
        "id": "Z8g8_PLkl6b9"
      },
      "execution_count": null,
      "outputs": []
    },
    {
      "cell_type": "code",
      "source": [
        "model"
      ],
      "metadata": {
        "colab": {
          "base_uri": "https://localhost:8080/"
        },
        "id": "9ljyawfVmZXc",
        "outputId": "e16e9d75-163a-4ccf-da41-d88660008fb9"
      },
      "execution_count": null,
      "outputs": [
        {
          "output_type": "execute_result",
          "data": {
            "text/plain": [
              "Neural_Network(\n",
              "  (act): LeakyReLU(negative_slope=0.2)\n",
              "  (maxpool): MaxPool2d(kernel_size=2, stride=2, padding=0, dilation=1, ceil_mode=False)\n",
              "  (conv0): Conv2d(3, 32, kernel_size=(3, 3), stride=(1, 1))\n",
              "  (conv1): Conv2d(32, 32, kernel_size=(3, 3), stride=(1, 1))\n",
              "  (conv2): Conv2d(32, 64, kernel_size=(3, 3), stride=(1, 1))\n",
              "  (conv3): Conv2d(64, 128, kernel_size=(3, 3), stride=(1, 1))\n",
              "  (adaptivepool): AdaptiveAvgPool2d(output_size=(1, 1))\n",
              "  (flatten): Flatten(start_dim=1, end_dim=-1)\n",
              "  (linear1): Linear(in_features=128, out_features=20, bias=True)\n",
              "  (linear2): Linear(in_features=20, out_features=3, bias=True)\n",
              ")"
            ]
          },
          "metadata": {},
          "execution_count": 14
        }
      ]
    },
    {
      "cell_type": "code",
      "source": [
        "count_parameters(model)"
      ],
      "metadata": {
        "colab": {
          "base_uri": "https://localhost:8080/"
        },
        "id": "2gcZpzjcYGaC",
        "outputId": "f6d477f2-035a-499d-b1ea-5d20593060a3"
      },
      "execution_count": null,
      "outputs": [
        {
          "output_type": "execute_result",
          "data": {
            "text/plain": [
              "105139"
            ]
          },
          "metadata": {},
          "execution_count": 15
        }
      ]
    },
    {
      "cell_type": "code",
      "source": [
        "loss_fn = nn.CrossEntropyLoss()\n",
        "optimizer = torch.optim.Adam(model.parameters(), lr=0.001, betas=(0.9, 0.999))"
      ],
      "metadata": {
        "id": "4dMI3Bj4R4GK"
      },
      "execution_count": null,
      "outputs": []
    },
    {
      "cell_type": "code",
      "source": [
        "def accuracy(prediction, label):\n",
        "    answer = F.softmax(prediction.detach()).numpy().argmax(1) == label.numpy().argmax(1)\n",
        "    return answer.mean()"
      ],
      "metadata": {
        "id": "2koFKs14SkhJ"
      },
      "execution_count": null,
      "outputs": []
    },
    {
      "cell_type": "code",
      "source": [
        "epochs = 20\n",
        "\n",
        "for epoch in range(epochs):\n",
        "    loss_val = 0\n",
        "    accuracy_val = 0\n",
        "    for sample in (pbar := tqdm(train_loader)):\n",
        "        image, label = sample['image'], sample['label']\n",
        "        optimizer.zero_grad()\n",
        "\n",
        "        label = F.one_hot(label, 3).float()\n",
        "        prediction = model(image)\n",
        "\n",
        "        loss = loss_fn(prediction, label)\n",
        "\n",
        "        loss.backward()\n",
        "        loss_item = loss.item()\n",
        "        loss_val += loss_item\n",
        "\n",
        "        optimizer.step()\n",
        "\n",
        "        accuracy_current = accuracy(prediction, label)\n",
        "        accuracy_val += accuracy_current\n",
        "\n",
        "    pbar.set_description(f\"loss: {loss_item:.5f}\\taccuracy: {accuracy_current:.3f}\")\n",
        "    print(loss_val/len(train_loader))\n",
        "    print(accuracy_val/len(train_loader))"
      ],
      "metadata": {
        "id": "g-wUfKYqUSYJ"
      },
      "execution_count": null,
      "outputs": []
    },
    {
      "cell_type": "code",
      "source": [
        "val_left_path = '/content/drive/My Drive/Colab Notebooks/DGW_dataset_val/left/'\n",
        "val_center_path = '/content/drive/My Drive/Colab Notebooks/DGW_dataset_val/center/'\n",
        "val_right_path = '/content/drive/My Drive/Colab Notebooks/DGW_dataset_val/right/'\n",
        "\n",
        "val_dataset = Eye_tracking_dataset_3classes(val_left_path, val_center_path, val_right_path)"
      ],
      "metadata": {
        "id": "mv9jwm2AuFz0"
      },
      "execution_count": null,
      "outputs": []
    },
    {
      "cell_type": "code",
      "source": [
        "batch_size = 16\n",
        "\n",
        "val_loader = torch.utils.data.DataLoader(\n",
        "    val_dataset, shuffle=True,\n",
        "    batch_size=batch_size, num_workers=20, drop_last=False\n",
        ")"
      ],
      "metadata": {
        "id": "7x6WurbWuVcx",
        "colab": {
          "base_uri": "https://localhost:8080/"
        },
        "outputId": "a014c6e0-d074-4c73-993f-83bc61860b1f"
      },
      "execution_count": null,
      "outputs": [
        {
          "output_type": "stream",
          "name": "stderr",
          "text": [
            "/usr/local/lib/python3.10/dist-packages/torch/utils/data/dataloader.py:560: UserWarning: This DataLoader will create 20 worker processes in total. Our suggested max number of worker in current system is 2, which is smaller than what this DataLoader is going to create. Please be aware that excessive worker creation might get DataLoader running slow or even freeze, lower the worker number to avoid potential slowness/freeze if necessary.\n",
            "  warnings.warn(_create_warning_msg(\n"
          ]
        }
      ]
    },
    {
      "cell_type": "code",
      "source": [
        "loss_val = 0\n",
        "accuracy_val = 0\n",
        "for sample in (pbar := tqdm(val_loader)):\n",
        "    with torch.no_grad():\n",
        "        image, label = sample['image'], sample['label']\n",
        "\n",
        "        label = F.one_hot(label, 3).float()\n",
        "        prediction = model(image)\n",
        "\n",
        "        loss = loss_fn(prediction, label)\n",
        "        loss_item = loss.item()\n",
        "        loss_val += loss_item\n",
        "\n",
        "        accuracy_current = accuracy(prediction, label)\n",
        "        accuracy_val += accuracy_current\n",
        "\n",
        "pbar.set_description(f\"loss: {loss_item:.5f}\\taccuracy: {accuracy_current:.3f}\")\n",
        "print(loss_val/len(val_loader))\n",
        "print(accuracy_val/len(val_loader))"
      ],
      "metadata": {
        "id": "HN5S4K3Ctap6",
        "colab": {
          "base_uri": "https://localhost:8080/",
          "height": 118,
          "referenced_widgets": [
            "92169e4e01104058933f94ad8c24bfa8",
            "459293cc177a4dc28961d3b9ca3eb6fc",
            "4005f3427d4f406f9326efd240f9ddec",
            "32c6888675f042ad92995c6d6bd75384",
            "34546ab67e7741f99d71a62e96d84b80",
            "7cf54a9f2929484da35ed1be38f4766e",
            "5a19b2852f91449e830f1485da6ab03c",
            "8ee8d245c3484a398f0e6a29d2bda7a9",
            "a4e2667605f04b0eab6fbbe83b80ef9f",
            "3f6a96aa4bac4aa290c4a2a4259c9f0a",
            "526bc001687542a59f1d056366da86ec"
          ]
        },
        "outputId": "053ddd58-e7c5-4612-c0a3-5e83a76f9fa9"
      },
      "execution_count": null,
      "outputs": [
        {
          "output_type": "display_data",
          "data": {
            "text/plain": [
              "  0%|          | 0/451 [00:00<?, ?it/s]"
            ],
            "application/vnd.jupyter.widget-view+json": {
              "version_major": 2,
              "version_minor": 0,
              "model_id": "92169e4e01104058933f94ad8c24bfa8"
            }
          },
          "metadata": {}
        },
        {
          "output_type": "stream",
          "name": "stderr",
          "text": [
            "<ipython-input-17-de8c1ff3b7d4>:2: UserWarning: Implicit dimension choice for softmax has been deprecated. Change the call to include dim=X as an argument.\n",
            "  answer = F.softmax(prediction.detach()).numpy().argmax(1) == label.numpy().argmax(1)\n"
          ]
        },
        {
          "output_type": "stream",
          "name": "stdout",
          "text": [
            "1.0900605092291822\n",
            "0.3549057649667406\n"
          ]
        }
      ]
    }
  ]
}